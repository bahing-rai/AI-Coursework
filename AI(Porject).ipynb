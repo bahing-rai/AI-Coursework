{
  "nbformat": 4,
  "nbformat_minor": 0,
  "metadata": {
    "colab": {
      "provenance": [],
      "authorship_tag": "ABX9TyOkc18mE987u1osuYWe8YK3",
      "include_colab_link": true
    },
    "kernelspec": {
      "name": "python3",
      "display_name": "Python 3"
    },
    "language_info": {
      "name": "python"
    }
  },
  "cells": [
    {
      "cell_type": "markdown",
      "metadata": {
        "id": "view-in-github",
        "colab_type": "text"
      },
      "source": [
        "<a href=\"https://colab.research.google.com/github/bahing-rai/AI-Coursework/blob/main/AI(Porject).ipynb\" target=\"_parent\"><img src=\"https://colab.research.google.com/assets/colab-badge.svg\" alt=\"Open In Colab\"/></a>"
      ]
    },
    {
      "cell_type": "markdown",
      "source": [
        "#Importing Libraries"
      ],
      "metadata": {
        "id": "9t5X_78DZbZ-"
      }
    },
    {
      "cell_type": "code",
      "execution_count": 1,
      "metadata": {
        "id": "kTBY-Q-dZKAd"
      },
      "outputs": [],
      "source": [
        "import pandas as pd\n",
        "import matplotlib.pyplot as plt\n",
        "import seaborn as sns\n",
        "from sklearn.model_selection import train_test_split, cross_val_score\n",
        "from sklearn.preprocessing import StandardScaler\n",
        "from sklearn.neighbors import KNeighborsClassifier\n",
        "from sklearn.metrics import (\n",
        "    confusion_matrix,\n",
        "    accuracy_score,\n",
        "    precision_score,\n",
        "    recall_score,\n",
        "    f1_score,\n",
        "    ConfusionMatrixDisplay\n",
        ")"
      ]
    },
    {
      "cell_type": "markdown",
      "source": [
        "# Loading and preparing data"
      ],
      "metadata": {
        "id": "id00yUgUaU9X"
      }
    },
    {
      "cell_type": "code",
      "source": [
        "df = pd.read_csv(\"muse_v3.csv\")\n",
        "df = df.dropna(subset=[\"valence_tags\", \"arousal_tags\", \"dominance_tags\"])\n",
        "df[\"is_positive\"] = df[\"valence_tags\"].apply(lambda x: 1 if x >= 5 else 0)"
      ],
      "metadata": {
        "id": "o_kDDVBhaYiV"
      },
      "execution_count": 2,
      "outputs": []
    },
    {
      "cell_type": "markdown",
      "source": [
        "\n",
        "# Features and target"
      ],
      "metadata": {
        "id": "jpFbaluLaizl"
      }
    },
    {
      "cell_type": "code",
      "source": [
        "X = df[[\"valence_tags\", \"arousal_tags\", \"dominance_tags\"]]\n",
        "y = df[\"is_positive\"]"
      ],
      "metadata": {
        "id": "peTm-SSKak5l"
      },
      "execution_count": 3,
      "outputs": []
    }
  ]
}
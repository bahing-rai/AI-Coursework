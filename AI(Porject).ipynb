{
  "nbformat": 4,
  "nbformat_minor": 0,
  "metadata": {
    "colab": {
      "provenance": [],
      "authorship_tag": "ABX9TyNdvGJOreNaDjkx3uYOZLjk",
      "include_colab_link": true
    },
    "kernelspec": {
      "name": "python3",
      "display_name": "Python 3"
    },
    "language_info": {
      "name": "python"
    }
  },
  "cells": [
    {
      "cell_type": "markdown",
      "metadata": {
        "id": "view-in-github",
        "colab_type": "text"
      },
      "source": [
        "<a href=\"https://colab.research.google.com/github/bahing-rai/AI-Coursework/blob/main/AI(Porject).ipynb\" target=\"_parent\"><img src=\"https://colab.research.google.com/assets/colab-badge.svg\" alt=\"Open In Colab\"/></a>"
      ]
    },
    {
      "cell_type": "markdown",
      "source": [
        "#Importing Libraries"
      ],
      "metadata": {
        "id": "9t5X_78DZbZ-"
      }
    },
    {
      "cell_type": "code",
      "execution_count": 1,
      "metadata": {
        "id": "kTBY-Q-dZKAd"
      },
      "outputs": [],
      "source": [
        "import pandas as pd\n",
        "import matplotlib.pyplot as plt\n",
        "import seaborn as sns\n",
        "from sklearn.model_selection import train_test_split, cross_val_score\n",
        "from sklearn.preprocessing import StandardScaler\n",
        "from sklearn.neighbors import KNeighborsClassifier\n",
        "from sklearn.metrics import (\n",
        "    confusion_matrix,\n",
        "    accuracy_score,\n",
        "    precision_score,\n",
        "    recall_score,\n",
        "    f1_score,\n",
        "    ConfusionMatrixDisplay\n",
        ")"
      ]
    },
    {
      "cell_type": "markdown",
      "source": [
        "# Loading and preparing data"
      ],
      "metadata": {
        "id": "id00yUgUaU9X"
      }
    },
    {
      "cell_type": "code",
      "source": [
        "df = pd.read_csv(\"muse_v3.csv\")\n",
        "df = df.dropna(subset=[\"valence_tags\", \"arousal_tags\", \"dominance_tags\"])\n",
        "df[\"is_positive\"] = df[\"valence_tags\"].apply(lambda x: 1 if x >= 5 else 0)"
      ],
      "metadata": {
        "id": "o_kDDVBhaYiV"
      },
      "execution_count": 2,
      "outputs": []
    },
    {
      "cell_type": "markdown",
      "source": [
        "\n",
        "# Features and target"
      ],
      "metadata": {
        "id": "jpFbaluLaizl"
      }
    },
    {
      "cell_type": "code",
      "source": [
        "X = df[[\"valence_tags\", \"arousal_tags\", \"dominance_tags\"]]\n",
        "y = df[\"is_positive\"]"
      ],
      "metadata": {
        "id": "peTm-SSKak5l"
      },
      "execution_count": 3,
      "outputs": []
    },
    {
      "cell_type": "markdown",
      "source": [
        "# Train/Test split"
      ],
      "metadata": {
        "id": "Gq25sypjaqpl"
      }
    },
    {
      "cell_type": "code",
      "source": [
        "X_train, X_test, y_train, y_test = train_test_split(X, y, test_size=0.2, random_state=42)"
      ],
      "metadata": {
        "id": "wmu3fVmUaszL"
      },
      "execution_count": 4,
      "outputs": []
    },
    {
      "cell_type": "markdown",
      "source": [
        "# Standardize"
      ],
      "metadata": {
        "id": "F4-IZbpYayy-"
      }
    },
    {
      "cell_type": "code",
      "source": [
        "scaler = StandardScaler()\n",
        "X_train_scaled = scaler.fit_transform(X_train)\n",
        "X_test_scaled = scaler.transform(X_test)"
      ],
      "metadata": {
        "id": "sl7Rmlu0a00P"
      },
      "execution_count": 5,
      "outputs": []
    },
    {
      "cell_type": "markdown",
      "source": [
        "\n",
        "# KNN Model"
      ],
      "metadata": {
        "id": "xQdskvMKa6yq"
      }
    },
    {
      "cell_type": "code",
      "source": [
        "knn = KNeighborsClassifier(n_neighbors=5)\n",
        "knn.fit(X_train_scaled, y_train)\n",
        "y_pred = knn.predict(X_test_scaled)"
      ],
      "metadata": {
        "id": "hi8fknv5a8aE"
      },
      "execution_count": 6,
      "outputs": []
    },
    {
      "cell_type": "markdown",
      "source": [
        "\n",
        "# Cross-validation"
      ],
      "metadata": {
        "id": "OqFwLHW5bBgU"
      }
    },
    {
      "cell_type": "code",
      "source": [
        "cv_scores = cross_val_score(knn, X, y, cv=5)\n",
        "print(f\"Cross-Validation Accuracy: {cv_scores.mean():.2f} ± {cv_scores.std():.2f}\")"
      ],
      "metadata": {
        "colab": {
          "base_uri": "https://localhost:8080/"
        },
        "id": "xP3CniMgbDFX",
        "outputId": "97937fa7-2726-4a9f-8df9-cb12882fa25e"
      },
      "execution_count": 7,
      "outputs": [
        {
          "output_type": "stream",
          "name": "stdout",
          "text": [
            "Cross-Validation Accuracy: 0.98 ± 0.01\n"
          ]
        }
      ]
    },
    {
      "cell_type": "markdown",
      "source": [
        "# Confusion Matrix"
      ],
      "metadata": {
        "id": "F7mmRJkybIeC"
      }
    },
    {
      "cell_type": "code",
      "source": [
        "cm = confusion_matrix(y_test, y_pred)\n",
        "disp = ConfusionMatrixDisplay(confusion_matrix=cm, display_labels=[\"Negative\", \"Positive\"])\n",
        "disp.plot(cmap=\"Blues\")\n",
        "plt.title(\"Confusion Matrix - KNN\")\n",
        "plt.show()"
      ],
      "metadata": {
        "colab": {
          "base_uri": "https://localhost:8080/",
          "height": 472
        },
        "id": "bCKJpRxFbKCs",
        "outputId": "1d6c10ca-8a72-47da-9c0f-512647d06bfd"
      },
      "execution_count": 8,
      "outputs": [
        {
          "output_type": "display_data",
          "data": {
            "text/plain": [
              "<Figure size 640x480 with 2 Axes>"
            ],
            "image/png": "[encoded data removed]"
          },
          "metadata": {}
        }
      ]
    }
  ]
}
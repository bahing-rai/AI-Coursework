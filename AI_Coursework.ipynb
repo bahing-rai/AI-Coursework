{
  "nbformat": 4,
  "nbformat_minor": 0,
  "metadata": {
    "colab": {
      "provenance": [],
      "authorship_tag": "ABX9TyPy9mpddJ01YlTK27xs3QHA",
      "include_colab_link": true
    },
    "kernelspec": {
      "name": "python3",
      "display_name": "Python 3"
    },
    "language_info": {
      "name": "python"
    }
  },
  "cells": [
    {
      "cell_type": "markdown",
      "metadata": {
        "id": "view-in-github",
        "colab_type": "text"
      },
      "source": [
        "<a href=\"https://colab.research.google.com/github/bahing-rai/AI-Coursework/blob/main/AI_Coursework.ipynb\" target=\"_parent\"><img src=\"https://colab.research.google.com/assets/colab-badge.svg\" alt=\"Open In Colab\"/></a>"
      ]
    },
    {
      "cell_type": "markdown",
      "source": [
        "#Importing Libraries"
      ],
      "metadata": {
        "id": "84pVwUS2dIbx"
      }
    },
    {
      "cell_type": "code",
      "execution_count": 1,
      "metadata": {
        "id": "CsGYkAPrdBK3"
      },
      "outputs": [],
      "source": [
        "import pandas as pd\n",
        "import matplotlib.pyplot as plt\n",
        "import seaborn as sns\n",
        "from sklearn.model_selection import train_test_split, GridSearchCV, cross_val_score\n",
        "from sklearn.preprocessing import StandardScaler\n",
        "from sklearn.neighbors import KNeighborsClassifier\n",
        "from sklearn.metrics import (\n",
        "    confusion_matrix,\n",
        "    accuracy_score,\n",
        "    precision_score,\n",
        "    recall_score,\n",
        "    f1_score,\n",
        "    ConfusionMatrixDisplay\n",
        ")"
      ]
    },
    {
      "cell_type": "markdown",
      "source": [
        "#Loading and Preparing the Data"
      ],
      "metadata": {
        "id": "164lvyIGdTXR"
      }
    },
    {
      "cell_type": "code",
      "source": [
        "df = pd.read_csv(\"muse_v3.csv\")"
      ],
      "metadata": {
        "id": "v9qxW0WtdX0J"
      },
      "execution_count": 2,
      "outputs": []
    },
    {
      "cell_type": "markdown",
      "source": [
        "# Dropping missing values in key emotional features"
      ],
      "metadata": {
        "id": "5VoxZ82Sdjfi"
      }
    },
    {
      "cell_type": "code",
      "source": [
        "df = df.dropna(subset=[\"valence_tags\", \"arousal_tags\", \"dominance_tags\"])"
      ],
      "metadata": {
        "id": "dQxyEi6ddmji"
      },
      "execution_count": 3,
      "outputs": []
    }
  ]
}
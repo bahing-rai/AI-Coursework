{
  "nbformat": 4,
  "nbformat_minor": 0,
  "metadata": {
    "colab": {
      "provenance": [],
      "authorship_tag": "ABX9TyMJ1y5n4TnCzUGt64TieCGQ",
      "include_colab_link": true
    },
    "kernelspec": {
      "name": "python3",
      "display_name": "Python 3"
    },
    "language_info": {
      "name": "python"
    }
  },
  "cells": [
    {
      "cell_type": "markdown",
      "metadata": {
        "id": "view-in-github",
        "colab_type": "text"
      },
      "source": [
        "<a href=\"https://colab.research.google.com/github/bahing-rai/AI-Coursework/blob/main/AIcoursework.ipynb\" target=\"_parent\"><img src=\"https://colab.research.google.com/assets/colab-badge.svg\" alt=\"Open In Colab\"/></a>"
      ]
    },
    {
      "cell_type": "markdown",
      "source": [
        "#Importing libraries"
      ],
      "metadata": {
        "id": "IdBlyjtze0WW"
      }
    },
    {
      "cell_type": "code",
      "execution_count": 2,
      "metadata": {
        "id": "xcCtJ4ZZeXF4"
      },
      "outputs": [],
      "source": [
        "import pandas as pd\n",
        "import numpy as np\n",
        "from sklearn.model_selection import train_test_split, GridSearchCV\n",
        "from sklearn.preprocessing import StandardScaler\n",
        "from sklearn.neighbors import KNeighborsClassifier\n",
        "from sklearn.metrics import classification_report, confusion_matrix\n",
        "import matplotlib.pyplot as plt\n",
        "import seaborn as sns"
      ]
    },
    {
      "cell_type": "markdown",
      "source": [
        "#Loading dataset\n"
      ],
      "metadata": {
        "id": "cs5Nlf3_fH1J"
      }
    },
    {
      "cell_type": "code",
      "source": [
        "df = pd.read_csv(\"muse_v3.csv\")"
      ],
      "metadata": {
        "id": "kxeHBEV_esaJ"
      },
      "execution_count": 4,
      "outputs": []
    },
    {
      "cell_type": "markdown",
      "source": [
        "# Dropping irrelevant or sparse columns"
      ],
      "metadata": {
        "id": "gtqGvzzyf9qk"
      }
    },
    {
      "cell_type": "code",
      "source": [
        "df.drop(columns=[\"lastfm_url\", \"mbid\", \"spotify_id\", \"track\", \"artist\", \"seeds\"], inplace=True)"
      ],
      "metadata": {
        "id": "rHs2MynHgDnM"
      },
      "execution_count": 5,
      "outputs": []
    },
    {
      "cell_type": "markdown",
      "source": [
        "# Dropping rows with missing target or feature values"
      ],
      "metadata": {
        "id": "G9h4HQGBg0Wv"
      }
    },
    {
      "cell_type": "code",
      "source": [
        "df.dropna(subset=[\"genre\", \"valence_tags\", \"arousal_tags\", \"dominance_tags\"], inplace=True)"
      ],
      "metadata": {
        "id": "7uGYubxqg3Ym"
      },
      "execution_count": 6,
      "outputs": []
    },
    {
      "cell_type": "markdown",
      "source": [
        "# Defining features and target"
      ],
      "metadata": {
        "id": "Q0J8wYQ0hD3Q"
      }
    },
    {
      "cell_type": "code",
      "source": [
        "X = df[[\"valence_tags\", \"arousal_tags\", \"dominance_tags\"]]\n",
        "y = df[\"genre\"]"
      ],
      "metadata": {
        "id": "oUjjueEVhC9G"
      },
      "execution_count": 7,
      "outputs": []
    },
    {
      "cell_type": "markdown",
      "source": [
        "# Encoding target labels (genres)"
      ],
      "metadata": {
        "id": "IKM7KOIzhOj1"
      }
    },
    {
      "cell_type": "code",
      "source": [
        "y_encoded = y.astype(\"category\").cat.codes\n",
        "label_mapping = dict(enumerate(y.astype(\"category\").cat.categories))"
      ],
      "metadata": {
        "id": "GmNy9MjqhRq2"
      },
      "execution_count": 8,
      "outputs": []
    },
    {
      "cell_type": "markdown",
      "source": [
        "# Standardizing features"
      ],
      "metadata": {
        "id": "MSNxP9hFhYGd"
      }
    },
    {
      "cell_type": "code",
      "source": [
        "scaler = StandardScaler()\n",
        "X_scaled = scaler.fit_transform(X)"
      ],
      "metadata": {
        "id": "NNw3G5uPhdem"
      },
      "execution_count": 9,
      "outputs": []
    },
    {
      "cell_type": "markdown",
      "source": [
        "# Train-test split"
      ],
      "metadata": {
        "id": "cZqYNsQHhicd"
      }
    },
    {
      "cell_type": "code",
      "source": [
        "X_train, X_test, y_train, y_test = train_test_split(X_scaled, y_encoded, test_size=0.2, random_state=42)"
      ],
      "metadata": {
        "id": "oZIfYJmVhlwa"
      },
      "execution_count": 10,
      "outputs": []
    }
  ]
}
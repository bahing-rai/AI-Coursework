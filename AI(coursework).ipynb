{
  "nbformat": 4,
  "nbformat_minor": 0,
  "metadata": {
    "colab": {
      "provenance": [],
      "authorship_tag": "ABX9TyMJj75Cqlp9wBQ7UbAqVmT+",
      "include_colab_link": true
    },
    "kernelspec": {
      "name": "python3",
      "display_name": "Python 3"
    },
    "language_info": {
      "name": "python"
    }
  },
  "cells": [
    {
      "cell_type": "markdown",
      "metadata": {
        "id": "view-in-github",
        "colab_type": "text"
      },
      "source": [
        "<a href=\"https://colab.research.google.com/github/bahing-rai/AI-Coursework/blob/main/AI(coursework).ipynb\" target=\"_parent\"><img src=\"https://colab.research.google.com/assets/colab-badge.svg\" alt=\"Open In Colab\"/></a>"
      ]
    },
    {
      "cell_type": "markdown",
      "source": [
        "#Importing librarires"
      ],
      "metadata": {
        "id": "B6_7iTdZU7j6"
      }
    },
    {
      "cell_type": "code",
      "execution_count": 1,
      "metadata": {
        "id": "i5-FQkFxRPg1"
      },
      "outputs": [],
      "source": [
        "import pandas as pd\n",
        "import matplotlib.pyplot as plt\n",
        "import seaborn as sns\n",
        "from sklearn.linear_model import LogisticRegression\n",
        "from sklearn.model_selection import train_test_split\n",
        "from sklearn.metrics import (\n",
        "    confusion_matrix,\n",
        "    accuracy_score,\n",
        "    precision_score,\n",
        "    recall_score,\n",
        "    f1_score,\n",
        "    ConfusionMatrixDisplay\n",
        ")"
      ]
    },
    {
      "cell_type": "markdown",
      "source": [
        "#Loading Dataset"
      ],
      "metadata": {
        "id": "ipgckpRBVRHo"
      }
    },
    {
      "cell_type": "code",
      "source": [
        "df = pd.read_csv(\"muse_v3.csv\")"
      ],
      "metadata": {
        "id": "tqAKsYNfVO4k"
      },
      "execution_count": 2,
      "outputs": []
    },
    {
      "cell_type": "markdown",
      "source": [
        "#Dropping rows with missing emotion values"
      ],
      "metadata": {
        "id": "gO2mSohrVfqb"
      }
    },
    {
      "cell_type": "code",
      "source": [
        "df = df.dropna(subset=[\"valence_tags\", \"arousal_tags\", \"dominance_tags\"])"
      ],
      "metadata": {
        "id": "mcHN-630VlPG"
      },
      "execution_count": 3,
      "outputs": []
    },
    {
      "cell_type": "markdown",
      "source": [
        "#Defining binary target: Is valence (positivity) high?"
      ],
      "metadata": {
        "id": "jC2anb27VtzX"
      }
    },
    {
      "cell_type": "code",
      "source": [
        "df[\"is_positive\"] = df[\"valence_tags\"].apply(lambda x: 1 if x >= 5 else 0)"
      ],
      "metadata": {
        "id": "nqcwOTyoVyb2"
      },
      "execution_count": 4,
      "outputs": []
    },
    {
      "cell_type": "markdown",
      "source": [
        "#Features and Target"
      ],
      "metadata": {
        "id": "RAYs7Ib5V_L4"
      }
    },
    {
      "cell_type": "code",
      "source": [
        "X = df[[\"valence_tags\", \"arousal_tags\", \"dominance_tags\"]]\n",
        "y = df[\"is_positive\"]"
      ],
      "metadata": {
        "id": "bFiygbxCWEL4"
      },
      "execution_count": 5,
      "outputs": []
    },
    {
      "cell_type": "markdown",
      "source": [
        "#Split into Train/Test"
      ],
      "metadata": {
        "id": "0BK-M38PWKub"
      }
    },
    {
      "cell_type": "code",
      "source": [
        "X_train, X_test, y_train, y_test = train_test_split(X, y, test_size=0.2, random_state=42)"
      ],
      "metadata": {
        "id": "g2c9-h66WO_H"
      },
      "execution_count": 6,
      "outputs": []
    },
    {
      "cell_type": "markdown",
      "source": [
        "#Logistic Regression"
      ],
      "metadata": {
        "id": "p6dWBcAFWU4E"
      }
    },
    {
      "cell_type": "code",
      "source": [
        "model = LogisticRegression()\n",
        "model.fit(X_train, y_train)\n",
        "y_pred = model.predict(X_test)"
      ],
      "metadata": {
        "id": "rt2181AbWX3y"
      },
      "execution_count": 7,
      "outputs": []
    },
    {
      "cell_type": "markdown",
      "source": [],
      "metadata": {
        "id": "Mh5LbG-TVNv3"
      }
    }
  ]
}